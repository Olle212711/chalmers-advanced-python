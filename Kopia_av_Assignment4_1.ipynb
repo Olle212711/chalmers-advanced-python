{
  "cells": [
    {
      "cell_type": "markdown",
      "metadata": {
        "id": "view-in-github",
        "colab_type": "text"
      },
      "source": [
        "<a href=\"https://colab.research.google.com/github/Olle212711/chalmers-advanced-python/blob/main/Kopia_av_Assignment4_1.ipynb\" target=\"_parent\"><img src=\"https://colab.research.google.com/assets/colab-badge.svg\" alt=\"Open In Colab\"/></a>"
      ]
    },
    {
      "cell_type": "markdown",
      "metadata": {
        "id": "-sTsDfIVKsmL"
      },
      "source": [
        "# DAT405 Introduction to Data Science and AI \n",
        "## 2022-2023, Reading Period 3\n",
        "## Assignment 4: Spam classification using Naïve Bayes \n",
        "This assignmetn has three obligatory questions which will be grades as PASS/FAIL. Questions 4-5 are optional and will not be graded, but can be interesting for students aiming for higher grades.\n",
        "\n",
        "The exercise takes place in this notebook environment where you can chose to use Jupyter or Google Colabs. We recommend you use Google Colabs as it will facilitate remote group-work and makes the assignment less technical. \n",
        "Hints:\n",
        "You can execute certain linux shell commands by prefixing the command with `!`. You can insert Markdown cells and code cells. The first you can use for documenting and explaining your results the second you can use writing code snippets that execute the tasks required.  \n",
        "\n",
        "In this assignment you will implement a Naïve Bayes classifier in Python that will classify emails into spam and non-spam (“ham”) classes.  Your program should be able to train on a given set of spam and “ham” datasets. \n",
        "You will work with the datasets available at https://spamassassin.apache.org/old/publiccorpus/. There are three types of files in this location: \n",
        "-\teasy-ham: non-spam messages typically quite easy to differentiate from spam messages. \n",
        "-\thard-ham: non-spam messages more difficult to differentiate \n",
        "-\tspam: spam messages \n",
        "\n",
        "**Execute the cell below to download and extract the data into the environment of the notebook -- it will take a few seconds.** If you chose to use Jupyter notebooks you will have to run the commands in the cell below on your local computer, with Windows you can use \n",
        "7zip (https://www.7-zip.org/download.html) to decompress the data.\n",
        "\n",
        "**What to submit:** \n",
        "Convert the notebook to a pdf-file and submit it. Make sure all cells are executed so all your code and its results are included. Double check the pdf displays correctly before you submit it."
      ]
    },
    {
      "cell_type": "code",
      "execution_count": null,
      "metadata": {
        "id": "Wa37fBwRF-xe",
        "vscode": {
          "languageId": "python"
        },
        "outputId": "20785493-de63-4270-9df2-a5aaa6ed8011",
        "colab": {
          "base_uri": "https://localhost:8080/"
        }
      },
      "outputs": [
        {
          "output_type": "stream",
          "name": "stdout",
          "text": [
            "--2023-02-13 11:30:41--  https://spamassassin.apache.org/old/publiccorpus/20021010_easy_ham.tar.bz2\n",
            "Resolving spamassassin.apache.org (spamassassin.apache.org)... 151.101.2.132, 2a04:4e42::644\n",
            "Connecting to spamassassin.apache.org (spamassassin.apache.org)|151.101.2.132|:443... connected.\n",
            "HTTP request sent, awaiting response... 200 OK\n",
            "Length: 1677144 (1.6M) [application/x-bzip2]\n",
            "Saving to: ‘20021010_easy_ham.tar.bz2’\n",
            "\n",
            "\r          20021010_   0%[                    ]       0  --.-KB/s               \r20021010_easy_ham.t 100%[===================>]   1.60M  --.-KB/s    in 0.06s   \n",
            "\n",
            "2023-02-13 11:30:41 (27.1 MB/s) - ‘20021010_easy_ham.tar.bz2’ saved [1677144/1677144]\n",
            "\n",
            "--2023-02-13 11:30:41--  https://spamassassin.apache.org/old/publiccorpus/20021010_hard_ham.tar.bz2\n",
            "Resolving spamassassin.apache.org (spamassassin.apache.org)... 151.101.2.132, 2a04:4e42::644\n",
            "Connecting to spamassassin.apache.org (spamassassin.apache.org)|151.101.2.132|:443... connected.\n",
            "HTTP request sent, awaiting response... 200 OK\n",
            "Length: 1021126 (997K) [application/x-bzip2]\n",
            "Saving to: ‘20021010_hard_ham.tar.bz2’\n",
            "\n",
            "20021010_hard_ham.t 100%[===================>] 997.19K  --.-KB/s    in 0.05s   \n",
            "\n",
            "2023-02-13 11:30:41 (19.7 MB/s) - ‘20021010_hard_ham.tar.bz2’ saved [1021126/1021126]\n",
            "\n",
            "--2023-02-13 11:30:41--  https://spamassassin.apache.org/old/publiccorpus/20021010_spam.tar.bz2\n",
            "Resolving spamassassin.apache.org (spamassassin.apache.org)... 151.101.2.132, 2a04:4e42::644\n",
            "Connecting to spamassassin.apache.org (spamassassin.apache.org)|151.101.2.132|:443... connected.\n",
            "HTTP request sent, awaiting response... 200 OK\n",
            "Length: 1192582 (1.1M) [application/x-bzip2]\n",
            "Saving to: ‘20021010_spam.tar.bz2’\n",
            "\n",
            "20021010_spam.tar.b 100%[===================>]   1.14M  --.-KB/s    in 0.05s   \n",
            "\n",
            "2023-02-13 11:30:42 (20.8 MB/s) - ‘20021010_spam.tar.bz2’ saved [1192582/1192582]\n",
            "\n"
          ]
        }
      ],
      "source": [
        "#Download and extract data\n",
        "!wget https://spamassassin.apache.org/old/publiccorpus/20021010_easy_ham.tar.bz2\n",
        "!wget https://spamassassin.apache.org/old/publiccorpus/20021010_hard_ham.tar.bz2\n",
        "!wget https://spamassassin.apache.org/old/publiccorpus/20021010_spam.tar.bz2\n",
        "!tar -xjf 20021010_easy_ham.tar.bz2\n",
        "!tar -xjf 20021010_hard_ham.tar.bz2\n",
        "!tar -xjf 20021010_spam.tar.bz2"
      ]
    },
    {
      "cell_type": "markdown",
      "metadata": {
        "id": "tdH1XTepLjZ3"
      },
      "source": [
        "*The* data is now in the three folders `easy_ham`, `hard_ham`, and `spam`."
      ]
    },
    {
      "cell_type": "code",
      "execution_count": null,
      "metadata": {
        "id": "A53Gw00fBLG2",
        "vscode": {
          "languageId": "python"
        },
        "outputId": "3ec2224a-5720-4a1d-aeaa-918ddb414515",
        "colab": {
          "base_uri": "https://localhost:8080/"
        }
      },
      "outputs": [
        {
          "output_type": "stream",
          "name": "stdout",
          "text": [
            "total 4.0M\n",
            "drwxr-xr-x 1 root root 4.0K Feb 13 11:30 .\n",
            "drwxr-xr-x 1 root root 4.0K Feb 13 11:29 ..\n",
            "-rw-r--r-- 1 root root 1.6M Jun 29  2004 20021010_easy_ham.tar.bz2\n",
            "-rw-r--r-- 1 root root 998K Dec 16  2004 20021010_hard_ham.tar.bz2\n",
            "-rw-r--r-- 1 root root 1.2M Jun 29  2004 20021010_spam.tar.bz2\n",
            "drwxr-xr-x 4 root root 4.0K Feb  9 14:41 .config\n",
            "drwx--x--x 2  500  500 168K Oct 10  2002 easy_ham\n",
            "drwx--x--x 2 1000 1000  20K Dec 16  2004 hard_ham\n",
            "drwxr-xr-x 1 root root 4.0K Feb  9 14:42 sample_data\n",
            "drwxr-xr-x 2  500  500  36K Oct 10  2002 spam\n"
          ]
        }
      ],
      "source": [
        "!ls -lah"
      ]
    },
    {
      "cell_type": "markdown",
      "metadata": {
        "id": "DGlWPVnSNzT7"
      },
      "source": [
        "### 1. Preprocessing: \n",
        "Note that the email files contain a lot of extra information, besides the actual message. Ignore that for now and run on the entire text (in the optional part further down can experiment with filtering out the headers and footers). \n",
        "1.\tWe don’t want to train and test on the same data (it might help to reflect on why if you don't recall). Split the spam and the ham datasets in a training set and a test set. (`hamtrain`, `spamtrain`, `hamtest`, and `spamtest`). Use easy_ham for quesions 1 and 2.\n"
      ]
    },
    {
      "cell_type": "code",
      "execution_count": null,
      "metadata": {
        "id": "J2sllUWXKblD",
        "vscode": {
          "languageId": "python"
        },
        "colab": {
          "base_uri": "https://localhost:8080/"
        },
        "outputId": "88bd54ca-741b-402f-b79e-364f6b3044a5"
      },
      "outputs": [
        {
          "output_type": "stream",
          "name": "stdout",
          "text": [
            "Easy ham: 2551\n",
            "Hard ham: 250\n",
            "Spam: 501\n",
            "df_combined:(3302, 3)\n",
            "hamtrain: (2641,)\n",
            "hamtest: (661,)\n",
            "spamtrain: (2641,)\n",
            "spamtest: (661,)\n"
          ]
        }
      ],
      "source": [
        "# Write your pre-processing code here\n",
        "from sklearn.feature_extraction.text import CountVectorizer\n",
        "from sklearn.model_selection import train_test_split\n",
        "from email import message_from_string\n",
        "import matplotlib.pyplot as plt\n",
        "import pandas as pd\n",
        "import email.policy\n",
        "import os\n",
        "\n",
        "def collect_emails(dirs, class_label):\n",
        "  email_rows = [\n",
        "    {\n",
        "      'email': message_from_string(open(os.path.join(directory, file), encoding='latin-1').read(), policy=email.policy.default),\n",
        "      'content': open(os.path.join(directory, file), encoding='latin-1').read(),\n",
        "      'class': class_label\n",
        "    }\n",
        "    for directory in dirs for file in os.listdir(directory)\n",
        "  ]\n",
        "  return pd.DataFrame(email_rows)\n",
        "\n",
        "\n",
        "df_easy_ham = collect_emails(['easy_ham'], 'ham')\n",
        "df_hard_ham = collect_emails(['hard_ham'], 'ham')\n",
        "df_spam = collect_emails(['spam'], 'spam')\n",
        "\n",
        "df_combined = pd.concat([df_easy_ham, df_hard_ham, df_spam])\n",
        "\n",
        "print(f'Easy ham: {len(df_easy_ham)}')\n",
        "print(f'Hard ham: {len(df_hard_ham)}')\n",
        "print(f'Spam: {len(df_spam)}')\n",
        "df_combined.sample(5)\n",
        "\n",
        "X = df_combined['content']\n",
        "y = df_combined['class']\n",
        "\n",
        "X_train, X_test, y_train, y_test = train_test_split(X, y, train_size=0.8, random_state=0)\n",
        "\n",
        "print(f'df_combined:{df_combined.shape}')\n",
        "print(f'hamtrain: {X_train.shape}')\n",
        "print(f'hamtest: {X_test.shape}')\n",
        "print(f'spamtrain: {y_train.shape}')\n",
        "print(f'spamtest: {y_test.shape}')\n",
        "\n"
      ]
    },
    {
      "cell_type": "markdown",
      "metadata": {
        "id": "mnbrbI0_OKCF"
      },
      "source": [
        "### 2. Write a Python program that: \n",
        "1.\tUses the four datasets from Qustion 1 (`hamtrain`, `spamtrain`, `hamtest`, and `spamtest`) \n",
        "2.\tTrains a Naïve Bayes classifier (use the [scikit-learn library](https://scikit-learn.org/stable/)) on `hamtrain` and `spamtrain`, that classifies the test sets and reports True Positive and False Negative rates on the `hamtest` and `spamtest` datasets. You can use `CountVectorizer` ([Documentation here](https://scikit-learn.org/stable/modules/generated/sklearn.feature_extraction.text.CountVectorizer.html#sklearn.feature_extraction.text.CountVectorizer)) to transform the email texts into vectors. Please note that there are different types of Naïve Bayes Classifier in scikit-learn ([Documentation here](https://scikit-learn.org/stable/modules/naive_bayes.html)). Test two of these classifiers that are well suited for this problem:\n",
        "- Multinomial Naive Bayes  \n",
        "- Bernoulli Naive Bayes. \n",
        "\n",
        "Please inspect the documentation to ensure input to the classifiers is appropriate before you start coding. \n",
        "\n"
      ]
    },
    {
      "cell_type": "code",
      "execution_count": null,
      "metadata": {
        "id": "MJERHSCcGNaW",
        "vscode": {
          "languageId": "python"
        },
        "colab": {
          "base_uri": "https://localhost:8080/",
          "height": 744
        },
        "outputId": "959bbbfb-2a41-4602-eba5-a1a352e60bb0"
      },
      "outputs": [
        {
          "output_type": "stream",
          "name": "stdout",
          "text": [
            "True positive (Multinomial): 0.9051724137931034\n",
            "True negative (Multinomial): 0.9908256880733946\n",
            "True positive (Bernoulli): 0.3275862068965517\n",
            "True negative (Bernoulli): 0.998165137614679\n"
          ]
        },
        {
          "output_type": "stream",
          "name": "stderr",
          "text": [
            "/usr/local/lib/python3.8/dist-packages/sklearn/utils/deprecation.py:87: FutureWarning: Function plot_confusion_matrix is deprecated; Function `plot_confusion_matrix` is deprecated in 1.0 and will be removed in 1.2. Use one of the class methods: ConfusionMatrixDisplay.from_predictions or ConfusionMatrixDisplay.from_estimator.\n",
            "  warnings.warn(msg, category=FutureWarning)\n",
            "/usr/local/lib/python3.8/dist-packages/sklearn/utils/deprecation.py:87: FutureWarning: Function plot_confusion_matrix is deprecated; Function `plot_confusion_matrix` is deprecated in 1.0 and will be removed in 1.2. Use one of the class methods: ConfusionMatrixDisplay.from_predictions or ConfusionMatrixDisplay.from_estimator.\n",
            "  warnings.warn(msg, category=FutureWarning)\n"
          ]
        },
        {
          "output_type": "display_data",
          "data": {
            "text/plain": [
              "<Figure size 1440x720 with 2 Axes>"
            ],
            "image/png": "[encoded data removed]"
          },
          "metadata": {
            "needs_background": "light"
          }
        }
      ],
      "source": [
        "from sklearn.naive_bayes import MultinomialNB, BernoulliNB\n",
        "from sklearn.metrics import plot_confusion_matrix, confusion_matrix\n",
        "\n",
        "def compare_naive_bayes(X_train, X_test, y_train, y_test, cv=None):\n",
        "  cv = cv or CountVectorizer()\n",
        "  X_train_vector = cv.fit_transform(X_train)\n",
        "  X_test_vector = cv.transform(X_test)\n",
        "  models = [MultinomialNB().fit(X_train_vector, y_train), \n",
        "            BernoulliNB().fit(X_train_vector, y_train)]\n",
        "\n",
        "  _, axs = plt.subplots(nrows=1, ncols=2, figsize=(20,10))\n",
        "  for i, model in enumerate(models):\n",
        "    y_pred = model.predict(X_test_vector)\n",
        "    tn, fp, fn, tp = confusion_matrix(y_test,y_pred).ravel()\n",
        "    print(f\"True positive ({'Multinomial' if i==0 else 'Bernoulli'}): {tp/(fn+tp)}\")\n",
        "    print(f\"True negative ({'Multinomial' if i==0 else 'Bernoulli'}): {tn/(fp+tn)}\")\n",
        "    plot_confusion_matrix(model, X_test_vector, y_test, ax=axs[i], colorbar=False, normalize='true')\n",
        "    axs[i].set_title(f\"Confusion Matrix ({'Multinomial' if i==0 else 'Bernoulli'}) Naive Bayes (%)\")\n",
        "    axs[i].set_xlabel(\"Predicted email type\")\n",
        "    axs[i].set_ylabel(\"Actual email type\")\n",
        "\n",
        "compare_naive_bayes(X_train, X_test, y_train, y_test)\n"
      ]
    },
    {
      "cell_type": "markdown",
      "metadata": {
        "id": "wDFS3uFFUcS7"
      },
      "source": [
        "### 3.Run on hard ham:\n",
        "Run the two models from Question 2 on spam versus hard-ham and compare to easy-ham results."
      ]
    },
    {
      "cell_type": "code",
      "execution_count": null,
      "metadata": {
        "id": "gool_zb8Qzzy",
        "vscode": {
          "languageId": "python"
        },
        "colab": {
          "base_uri": "https://localhost:8080/",
          "height": 1000
        },
        "outputId": "ccacae73-319b-42f7-f278-3dfd3152a407"
      },
      "outputs": [
        {
          "output_type": "stream",
          "name": "stdout",
          "text": [
            "True positive (Multinomial): 0.8712871287128713\n",
            "True negative (Multinomial): 1.0\n",
            "True positive (Bernoulli): 0.45544554455445546\n",
            "True negative (Bernoulli): 1.0\n"
          ]
        },
        {
          "output_type": "stream",
          "name": "stderr",
          "text": [
            "/usr/local/lib/python3.8/dist-packages/sklearn/utils/deprecation.py:87: FutureWarning: Function plot_confusion_matrix is deprecated; Function `plot_confusion_matrix` is deprecated in 1.0 and will be removed in 1.2. Use one of the class methods: ConfusionMatrixDisplay.from_predictions or ConfusionMatrixDisplay.from_estimator.\n",
            "  warnings.warn(msg, category=FutureWarning)\n",
            "/usr/local/lib/python3.8/dist-packages/sklearn/utils/deprecation.py:87: FutureWarning: Function plot_confusion_matrix is deprecated; Function `plot_confusion_matrix` is deprecated in 1.0 and will be removed in 1.2. Use one of the class methods: ConfusionMatrixDisplay.from_predictions or ConfusionMatrixDisplay.from_estimator.\n",
            "  warnings.warn(msg, category=FutureWarning)\n"
          ]
        },
        {
          "output_type": "stream",
          "name": "stdout",
          "text": [
            "True positive (Multinomial): 0.9795918367346939\n",
            "True negative (Multinomial): 0.8867924528301887\n",
            "True positive (Bernoulli): 1.0\n",
            "True negative (Bernoulli): 0.6981132075471698\n"
          ]
        },
        {
          "output_type": "stream",
          "name": "stderr",
          "text": [
            "/usr/local/lib/python3.8/dist-packages/sklearn/utils/deprecation.py:87: FutureWarning: Function plot_confusion_matrix is deprecated; Function `plot_confusion_matrix` is deprecated in 1.0 and will be removed in 1.2. Use one of the class methods: ConfusionMatrixDisplay.from_predictions or ConfusionMatrixDisplay.from_estimator.\n",
            "  warnings.warn(msg, category=FutureWarning)\n",
            "/usr/local/lib/python3.8/dist-packages/sklearn/utils/deprecation.py:87: FutureWarning: Function plot_confusion_matrix is deprecated; Function `plot_confusion_matrix` is deprecated in 1.0 and will be removed in 1.2. Use one of the class methods: ConfusionMatrixDisplay.from_predictions or ConfusionMatrixDisplay.from_estimator.\n",
            "  warnings.warn(msg, category=FutureWarning)\n"
          ]
        },
        {
          "output_type": "display_data",
          "data": {
            "text/plain": [
              "<Figure size 1440x720 with 2 Axes>"
            ],
            "image/png": "[encoded data removed]"
          },
          "metadata": {
            "needs_background": "light"
          }
        },
        {
          "output_type": "display_data",
          "data": {
            "text/plain": [
              "<Figure size 1440x720 with 2 Axes>"
            ],
            "image/png": "[encoded data removed]"
          },
          "metadata": {
            "needs_background": "light"
          }
        }
      ],
      "source": [
        "\n",
        "\n",
        "\n",
        "\n",
        "\n",
        "def spam_vs_ham(ham_type, cv=None, fit_prior = None):\n",
        "  if ham_type == \"easy\":\n",
        "    ham_df = df_easy_ham\n",
        "  else:\n",
        "    ham_df = df_hard_ham\n",
        "  spam_vs_ham = pd.concat([df_spam, ham_df])\n",
        "  X = spam_vs_ham['content']\n",
        "  y = spam_vs_ham['class']\n",
        "  X_train, X_test, y_train, y_test = train_test_split(X, y, train_size=0.8, random_state=0)\n",
        "  compare_naive_bayes(X_train, X_test, y_train, y_test)\n",
        "\n",
        "spam_vs_ham(\"easy\")\n",
        "spam_vs_ham(\"hard\")\n"
      ]
    },
    {
      "cell_type": "markdown",
      "metadata": {
        "id": "TkfQWBB4UhYd"
      },
      "source": [
        "### 4.\tOPTIONAL - NOT MARKED: \n",
        "To avoid classification based on common and uninformative words it is common to filter these out. \n",
        "\n",
        "**a.** Think about why this may be useful. Show a few examples of too common and too uncommon words. \n",
        "\n",
        "**b.** Use the parameters in scikit-learn’s `CountVectorizer` to filter out these words. Update the program from point 2 and run it on easy ham vs spam and hard ham vs spam and report your results."
      ]
    },
    {
      "cell_type": "code",
      "execution_count": null,
      "metadata": {
        "id": "qt7ELzEqUfas",
        "vscode": {
          "languageId": "python"
        }
      },
      "outputs": [],
      "source": [
        "#Write your code here"
      ]
    },
    {
      "cell_type": "markdown",
      "metadata": {
        "id": "zcyVfOZFU4F_"
      },
      "source": [
        "### 5. OPTIONAL - NOT MARKED: Eeking out further performance\n",
        "Filter out the headers and footers of the emails before you run on them. The format may vary somewhat between emails, which can make this a bit tricky, so perfect filtering is not required. Run your program again and answer the following questions: \n",
        "- Does the result improve from 3 and 4? \n",
        "- What do you expect would happen if your training set were mostly spam messages while your test set were mostly ham messages or vice versa? \n",
        "- Look at the `fit_prior` parameter. What does this parameter mean? Discuss in what settings it can be helpful (you can also test your hypothesis). "
      ]
    },
    {
      "cell_type": "code",
      "execution_count": null,
      "metadata": {
        "id": "zkIB6h9k4r07"
      },
      "outputs": [],
      "source": [
        "#Write your code here"
      ]
    }
  ],
  "metadata": {
    "colab": {
      "provenance": [],
      "include_colab_link": true
    },
    "kernelspec": {
      "display_name": "Python 3 (ipykernel)",
      "language": "python",
      "name": "python3"
    },
    "language_info": {
      "codemirror_mode": {
        "name": "ipython",
        "version": 3
      },
      "file_extension": ".py",
      "mimetype": "text/x-python",
      "name": "python",
      "nbconvert_exporter": "python",
      "pygments_lexer": "ipython3",
      "version": "3.8.12"
    }
  },
  "nbformat": 4,
  "nbformat_minor": 0
}